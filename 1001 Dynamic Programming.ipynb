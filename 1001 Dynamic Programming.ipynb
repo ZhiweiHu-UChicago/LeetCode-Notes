{
 "cells": [
  {
   "cell_type": "markdown",
   "metadata": {},
   "source": [
    "## 10-01 Leetcode Dynamic Programming\n",
    "\n",
    "#### Fib number [Easy]\n",
    "\n",
    "F(0) = 0, F(1) = 1\n",
    "F(n) = F(n - 1) + F(n - 2), for n > 1.\n",
    "\n",
    "Given n, calculate F(n).\n",
    "\n",
    "Example 1:\n",
    "\n",
    "Input: n = 2\n",
    "Output: 1\n",
    "Explanation: F(2) = F(1) + F(0) = 1 + 0 = 1.\n",
    "Example 2:\n",
    "\n",
    "Input: n = 3\n",
    "Output: 2\n",
    "Explanation: F(3) = F(2) + F(1) = 1 + 1 = 2.\n",
    "Example 3:\n",
    "\n",
    "Input: n = 4\n",
    "Output: 3\n",
    "Explanation: F(4) = F(3) + F(2) = 2 + 1 = 3."
   ]
  },
  {
   "cell_type": "code",
   "execution_count": 18,
   "metadata": {},
   "outputs": [],
   "source": [
    "import functools\n",
    "import time\n",
    "\n",
    "def timer(func):\n",
    "    @functools.wraps(func)\n",
    "    def wrapper_timer(*args, **kwargs):\n",
    "        start_time = time.perf_counter()\n",
    "        value = func(*args, **kwargs)\n",
    "        end_time = time.perf_counter()\n",
    "        run_time = end_time - start_time\n",
    "        print(f'This function finished in {func.__name__} in {run_time:.4f} seconds')\n",
    "        return value\n",
    "    return wrapper_timer"
   ]
  },
  {
   "cell_type": "code",
   "execution_count": 20,
   "metadata": {},
   "outputs": [
    {
     "name": "stdout",
     "output_type": "stream",
     "text": [
      "55\n"
     ]
    }
   ],
   "source": [
    "# The recursion method\n",
    "\n",
    "class solution_1:\n",
    "    def fib(self, n:int)->int:\n",
    "        if n<2:\n",
    "            return n # because fib(0) = 0 and fib(1) = 1\n",
    "        return self.fib(n-1) + self.fib(n-2)\n",
    "    \n",
    "solution_ = solution_1\n",
    "print(solution_().fib(10))"
   ]
  },
  {
   "cell_type": "code",
   "execution_count": 25,
   "metadata": {},
   "outputs": [
    {
     "name": "stdout",
     "output_type": "stream",
     "text": [
      "This function finished in fib in 0.0002 seconds\n",
      "43466557686937456435688527675040625802564660517371780402481729089536555417949051890403879840079255169295922593080322634775209689623239873322471161642996440906533187938298969649928516003704476137795166849228875\n"
     ]
    }
   ],
   "source": [
    "# The list method\n",
    "class solution_2:\n",
    "    @timer\n",
    "    def fib(self,n:int)->int:\n",
    "        A = [0,1] # fib(0) = 0 and fib(1) =1\n",
    "        for i in range(n-1):\n",
    "            A.append(A[-1]+A[-2]) # any other fib number is the sum of two previous numbers\n",
    "        return A[n]\n",
    "    \n",
    "solution_ = solution_2\n",
    "print(solution_().fib(1000))\n",
    "# this method is fast"
   ]
  },
  {
   "cell_type": "markdown",
   "metadata": {},
   "source": [
    "上述解法的一个问题是，尽管很快，但是用的空间也很长，空间复杂度是O(n)\n",
    "可以利用滚动数组，将空间复杂度优化至0(1)"
   ]
  },
  {
   "cell_type": "code",
   "execution_count": null,
   "metadata": {},
   "outputs": [],
   "source": [
    "class Solution_3:\n",
    "    @timer\n",
    "    def fib(self, n:int)->int:\n",
    "        if n < 2:\n",
    "            return n\n",
    "        p,q,r = 0,0,1\n",
    "        for i in range(2,n+1):\n",
    "            p,q = q,r\n",
    "            r = p+q # so each time moves forward and add a new value of sum of two\n",
    "        return r"
   ]
  },
  {
   "cell_type": "markdown",
   "metadata": {},
   "source": [
    "这种方式的时间复杂度是o(n),空间复杂度是o(1)\n",
    "还可以通过matrix的方式来降低时间复杂度\n",
    "$$\n",
    "\\begin{pmatrix}\n",
    "1 & 1\\\\\n",
    "1 & 0\\\\\n",
    "\\end{pmatrix}\n",
    "\\begin{pmatrix}\n",
    "F(n)\\\\\n",
    "F(n-1)\n",
    "\\end{pmatrix} = \\begin{pmatrix}F(n) + F(n-1) \\\\ F(n)\\end{pmatrix} = \\begin{pmatrix}F(n+1)\\\\F(n)\\end{pmatrix}\n",
    "$$\n",
    "矩阵相乘得到最终的结果，因此：\n",
    "$$\n",
    "\\begin{pmatrix}F(n+1)\\\\F(n)\\end{pmatrix} = \\begin{pmatrix}1&1\\\\1&0\\end{pmatrix}^n * \\begin{pmatrix}F(1)\\\\F(0)\\end{pmatrix}\n",
    "$$\n",
    "令:\n",
    "$$\n",
    "M = \\begin{pmatrix}1&1\\\\1&0\\end{pmatrix}\n",
    "$$\n",
    "因此只需要求出M的n次方幂即可"
   ]
  },
  {
   "cell_type": "code",
   "execution_count": 32,
   "metadata": {},
   "outputs": [
    {
     "name": "stdout",
     "output_type": "stream",
     "text": [
      "354224848179261915075\n"
     ]
    }
   ],
   "source": [
    "class Solution:\n",
    "    def fib(self, n: int) -> int:\n",
    "        if n < 2:\n",
    "            return n\n",
    "        \n",
    "        q = [[1, 1], [1, 0]]\n",
    "        res = self.matrix_pow(q, n - 1)\n",
    "        return res[0][0] # 最大的结果\n",
    "    \n",
    "    # 以下是矩阵快速幂算法\n",
    "    def matrix_pow(self, a, n):\n",
    "        ret = [[1, 0], [0, 1]]\n",
    "        while n > 0:\n",
    "            if n & 1:\n",
    "                ret = self.matrix_multiply(ret, a)\n",
    "            n >>= 1\n",
    "            a = self.matrix_multiply(a, a)\n",
    "        return ret\n",
    "\n",
    "    def matrix_multiply(self, a, b):\n",
    "        c = [[0, 0], [0, 0]]\n",
    "        for i in range(2):\n",
    "            for j in range(2):\n",
    "                c[i][j] = a[i][0] * b[0][j] + a[i][1] * b[1][j]\n",
    "        return c\n",
    "    \n",
    "solution_new = Solution\n",
    "print(solution_new().fib(100))"
   ]
  },
  {
   "cell_type": "code",
   "execution_count": 27,
   "metadata": {},
   "outputs": [
    {
     "data": {
      "text/plain": [
       "True"
      ]
     },
     "execution_count": 27,
     "metadata": {},
     "output_type": "execute_result"
    }
   ],
   "source": [
    "0 == False"
   ]
  },
  {
   "cell_type": "markdown",
   "metadata": {},
   "source": [
    "#### What if now it's tribonaci?"
   ]
  },
  {
   "cell_type": "code",
   "execution_count": 33,
   "metadata": {},
   "outputs": [
    {
     "name": "stdout",
     "output_type": "stream",
     "text": [
      "1389537\n"
     ]
    }
   ],
   "source": [
    "# same to use the floating string method\n",
    "class Solution_:\n",
    "    def tribonaci(self, n):\n",
    "        if n < 3:\n",
    "            if n == 2:\n",
    "                return 1\n",
    "            return n\n",
    "        p, q, r, s = 0, 1, 1, 2\n",
    "        for i in range(4, n+1):\n",
    "            p, q, r = q, r, s\n",
    "            s = p + q + r\n",
    "        return s\n",
    "new_solution = Solution_\n",
    "print(new_solution().tribonaci(25))"
   ]
  },
  {
   "cell_type": "markdown",
   "metadata": {},
   "source": [
    "### Linked List Review and deque data structure"
   ]
  },
  {
   "cell_type": "code",
   "execution_count": null,
   "metadata": {},
   "outputs": [],
   "source": [
    "# to import deque, then to use\n",
    "from collections import deque\n",
    "deque_1 = deque() # then to implement methods including popleft or popright"
   ]
  }
 ],
 "metadata": {
  "kernelspec": {
   "display_name": "Python 3",
   "language": "python",
   "name": "python3"
  },
  "language_info": {
   "codemirror_mode": {
    "name": "ipython",
    "version": 3
   },
   "file_extension": ".py",
   "mimetype": "text/x-python",
   "name": "python",
   "nbconvert_exporter": "python",
   "pygments_lexer": "ipython3",
   "version": "3.8.3"
  }
 },
 "nbformat": 4,
 "nbformat_minor": 4
}
